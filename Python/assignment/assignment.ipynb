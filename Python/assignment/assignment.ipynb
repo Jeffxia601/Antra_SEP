{
 "cells": [
  {
   "cell_type": "markdown",
   "metadata": {},
   "source": [
    "# SEP Python Assignment"
   ]
  },
  {
   "cell_type": "markdown",
   "metadata": {},
   "source": [
    "## Question 1"
   ]
  },
  {
   "cell_type": "code",
   "execution_count": 3,
   "metadata": {},
   "outputs": [
    {
     "name": "stdout",
     "output_type": "stream",
     "text": [
      "you have dropped 4305 rows of duplicate records.\n",
      "   FirstName   LastName                         Email       Phone  \\\n",
      "0    Matthew   Williams    Matthew.Williams@email.com  0532788309   \n",
      "3     Louise  Rodriguez    Louise.Rodriguez@email.com  5539811593   \n",
      "4    Charles      Smith       Charles.Smith@email.com  5233815730   \n",
      "5       Lisa      Jones          Lisa.Jones@email.com  8037591018   \n",
      "6      Greta      Jones         Greta.Jones@email.com  6796258398   \n",
      "7        Ted     Thomas          Ted.Thomas@email.com  3019050866   \n",
      "8    Matthew   Gonzalez    Matthew.Gonzalez@email.com  5622374649   \n",
      "9       Zoey      Smith          Zoey.Smith@email.com  9439505894   \n",
      "10   Charles      Brown       Charles.Brown@email.com  4484721969   \n",
      "11       Ted   Anderson        Ted.Anderson@email.com  0038580112   \n",
      "12  Jennifer   Williams   Jennifer.Williams@email.com  2737408034   \n",
      "13    Louise      Smith        Louise.Smith@email.com  2885927227   \n",
      "14      Jake     Miller         Jake.Miller@email.com  4379626516   \n",
      "15       Bob   Williams        Bob.Williams@email.com  1878202005   \n",
      "16  Jennifer  Hernandez  Jennifer.Hernandez@email.com  6124822821   \n",
      "17   Charles     Garcia      Charles.Garcia@email.com  3224798760   \n",
      "18     Greta      Davis         Greta.Davis@email.com  2624474338   \n",
      "19      Zoey   Martinez       Zoey.Martinez@email.com  2646746390   \n",
      "20       Ted   Gonzalez        Ted.Gonzalez@email.com  9676836495   \n",
      "21   Matthew  Hernandez   Matthew.Hernandez@email.com  5657775953   \n",
      "\n",
      "                Address  \n",
      "0    0532 Williams Lane  \n",
      "3   5539 Rodriguez Lane  \n",
      "4       5233 Smith Lane  \n",
      "5       8037 Jones Lane  \n",
      "6       6796 Jones Lane  \n",
      "7      3019 Thomas Lane  \n",
      "8    5622 Gonzalez Lane  \n",
      "9       9439 Smith Lane  \n",
      "10      4484 Brown Lane  \n",
      "11   0038 Anderson Lane  \n",
      "12   2737 Williams Lane  \n",
      "13      2885 Smith Lane  \n",
      "14     4379 Miller Lane  \n",
      "15   1878 Williams Lane  \n",
      "16  6124 Hernandez Lane  \n",
      "17     3224 Garcia Lane  \n",
      "18      2624 Davis Lane  \n",
      "19   2646 Martinez Lane  \n",
      "20   9676 Gonzalez Lane  \n",
      "21  5657 Hernandez Lane  \n"
     ]
    }
   ],
   "source": [
    "import pandas as pd\n",
    "df_1=pd.read_csv('people_1.txt', sep='\\t', header=0)\n",
    "df_2=pd.read_csv('people_2.txt', sep='\\t', header=0)\n",
    "df = pd.concat([df_1, df_2], ignore_index=True, sort=False).astype(str)\n",
    "\n",
    "# calpitalize first name & last name\n",
    "df['FirstName']=df['FirstName'].str.capitalize().apply(lambda x: x.strip())\n",
    "df['LastName']=df['LastName'].str.capitalize().apply(lambda x: x.strip())\n",
    "\n",
    "# leave email address the same\n",
    "df['Email']=df['Email'].apply(lambda x: x.strip())\n",
    "# erase all '-'s from phone\n",
    "df['Phone']=df['Phone'].apply(lambda x: x.replace('-','').strip())\n",
    "\n",
    "# erase all 'No.' and '#'\n",
    "df['Address']=df['Address'].apply(lambda x: x.replace('No.','').strip()).apply(lambda x: x.replace('#','').strip())\n",
    "\n",
    "# remove duplicates\n",
    "new_df=df.drop_duplicates()\n",
    "print('you have dropped '+str(len(df)-len(new_df))+' rows of duplicate records.')\n",
    "\n",
    "# show results\n",
    "print(new_df.head(20))\n",
    "\n",
    "#save result to a tsv file\n",
    "df.to_csv('people.txt', sep=\"\\t\")"
   ]
  },
  {
   "cell_type": "markdown",
   "metadata": {},
   "source": [
    "## Question 2"
   ]
  },
  {
   "cell_type": "code",
   "execution_count": 35,
   "metadata": {},
   "outputs": [
    {
     "name": "stdout",
     "output_type": "stream",
     "text": [
      "dataframe js_1 has 1249 rows of data\n",
      "dataframe js_2 has 1249 rows of data\n",
      "dataframe js_3 has 1249 rows of data\n",
      "dataframe js_4 has 1249 rows of data\n",
      "dataframe js_5 has 1249 rows of data\n",
      "dataframe js_6 has 1249 rows of data\n",
      "dataframe js_7 has 1249 rows of data\n",
      "dataframe js_8 has 1252 rows of data\n"
     ]
    }
   ],
   "source": [
    "import numpy as np\n",
    "import pandas as pd\n",
    "\n",
    "js = pd.read_json('movie.json')\n",
    "\n",
    "# trunk json file evenly into 8 parts\n",
    "trunk_num = 8\n",
    "rows = int(np.floor(len(js)/trunk_num))\n",
    "\n",
    "# automatically name those 8 part with name from js_1 to js_8\n",
    "for i in range(trunk_num-1):\n",
    "    vars()[\"js_\"+str(i+1)]=js.iloc[i*rows:(i+1)*rows]\n",
    "vars()[\"js_\"+str(trunk_num)]=js.iloc[(trunk_num-1)*rows:]\n",
    "\n",
    "# print number of rows from each sub-dataframe\n",
    "for i in range(trunk_num):\n",
    "    print(\"dataframe js_\"+str(i+1)+' has '+str(len(vars()[\"js_\"+str(i+1)]))+' rows of data')\n",
    "# automatically save those into json format\n",
    "for i in range(trunk_num):\n",
    "    vars()[\"js_\"+str(i+1)].to_json(\"js_\"+str(i+1)+'.json')"
   ]
  },
  {
   "cell_type": "markdown",
   "metadata": {},
   "source": [
    "## Question 3"
   ]
  },
  {
   "cell_type": "markdown",
   "metadata": {},
   "source": [
    "### Write a paragraph on what PaaS, SaaS and IaaS are and the differences between them."
   ]
  },
  {
   "cell_type": "markdown",
   "metadata": {},
   "source": [
    "#### PaaS\n",
    "#### SaaS\n",
    "#### IaaS"
   ]
  },
  {
   "cell_type": "markdown",
   "metadata": {},
   "source": [
    "## Question 4"
   ]
  },
  {
   "cell_type": "markdown",
   "metadata": {},
   "source": [
    "### Write a paragraph on the differences between ETL and ELT. \n",
    "### Also, list the pros and cons of each in a chart."
   ]
  },
  {
   "cell_type": "markdown",
   "metadata": {},
   "source": [
    "#### ETL\n",
    "#### ELT"
   ]
  },
  {
   "cell_type": "markdown",
   "metadata": {},
   "source": [
    "#### Chart"
   ]
  }
 ],
 "metadata": {
  "kernelspec": {
   "display_name": "Python 3",
   "language": "python",
   "name": "python3"
  },
  "language_info": {
   "codemirror_mode": {
    "name": "ipython",
    "version": 3
   },
   "file_extension": ".py",
   "mimetype": "text/x-python",
   "name": "python",
   "nbconvert_exporter": "python",
   "pygments_lexer": "ipython3",
   "version": "3.7.6"
  }
 },
 "nbformat": 4,
 "nbformat_minor": 4
}
